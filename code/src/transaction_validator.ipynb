{
 "cells": [
  {
   "cell_type": "code",
   "execution_count": 1,
   "id": "94138b64-9791-4e5d-8878-6ad1df49ff68",
   "metadata": {},
   "outputs": [],
   "source": [
    "# Import necessary libraries for data processing, anomaly detection, LLM-based rule generation, and file handling\n",
    "import pandas as pd\n",
    "import numpy as np\n",
    "from sklearn.ensemble import IsolationForest\n",
    "from transformers import pipeline\n",
    "import datetime\n",
    "import os  # Added for directory creation in Cell 12"
   ]
  },
  {
   "cell_type": "code",
   "execution_count": 2,
   "id": "f4b0854b-b6c3-4176-bb2c-7aad58cc9fe8",
   "metadata": {},
   "outputs": [],
   "source": [
    "# Define default profiling rules based on regulatory instructions, to be used for data validation\n",
    "# Includes manually implemented rules from Cell 12 for Transaction_Amount vs Reported_Amount and Currency\n",
    "default_profiling_rules = {\n",
    "    'Customer_ID': {'type': 'int', 'rule': lambda x: x > 0, 'null_allowed': False},\n",
    "    'Account_Balance': {'type': 'float', 'rule': lambda x: x >= 0, 'null_allowed': False},\n",
    "    'Transaction_Amount': {'type': 'float', 'rule': lambda x: x >= 0, 'null_allowed': False},\n",
    "    'Reported_Amount': {'type': 'float', 'rule': lambda x: x >= 0, 'null_allowed': False},\n",
    "    'Currency': {\n",
    "        'type': 'str',\n",
    "        'rule': lambda x: x in ['USD', 'EUR', 'GBP', 'JPY', 'AUD', 'CAD', 'CHF', 'CNY', 'INR', 'SGD'],  # Expanded list of ISO 4217 codes (source: https://www.iso.org/iso-4217-currency-codes.html)\n",
    "        'null_allowed': False\n",
    "    },\n",
    "    'Country': {'type': 'str', 'rule': lambda x: x in ['US', 'DE', 'UK', 'JP'], 'null_allowed': False},\n",
    "    'Transaction_Date': {\n",
    "        'type': 'datetime',\n",
    "        'rule': lambda x: pd.to_datetime(x) <= pd.Timestamp(datetime.datetime.now()) and (pd.Timestamp(datetime.datetime.now()) - pd.to_datetime(x)).days <= 365,\n",
    "        'null_allowed': False\n",
    "    },\n",
    "    'Risk_Score': {'type': 'float', 'rule': lambda x: 0 <= x <= 10 if pd.notnull(x) else True, 'null_allowed': True},\n",
    "    'Transaction_Amount vs Reported_Amount': {\n",
    "        'cross_field': lambda row: abs(row['Transaction_Amount'] - row['Reported_Amount']) <= 0.01 * row['Transaction_Amount'] if row.get('Cross_Currency', 'No') != 'No' else row['Transaction_Amount'] == row['Reported_Amount']\n",
    "    },\n",
    "    'Round_Number_Transaction': {'cross_field': lambda row: row['Transaction_Amount'] % 1000 != 0},\n",
    "    'High_Risk_Transaction': {'cross_field': lambda row: not (row['Transaction_Amount'] > 5000 and row['Country'] in ['DE'])}\n",
    "}"
   ]
  },
  {
   "cell_type": "code",
   "execution_count": 3,
   "id": "d4a5b1c2-a740-4ff6-af54-bb7db6836304",
   "metadata": {},
   "outputs": [],
   "source": [
    "# Validate the dataset against profiling rules, checking data types, null values, and cross-field conditions\n",
    "def validate_dataset(df, rules):\n",
    "    validation_results = {}\n",
    "    for column, rule in rules.items():\n",
    "        if 'cross_field' in rule:\n",
    "            continue\n",
    "        if column not in df.columns:\n",
    "            validation_results[column] = f\"Column '{column}' not found in dataset.\"\n",
    "            continue\n",
    "        if rule['type'] == 'int' and not pd.api.types.is_integer_dtype(df[column]):\n",
    "            validation_results[column] = f\"Column '{column}' should be integer type.\"\n",
    "            continue\n",
    "        elif rule['type'] == 'float' and not pd.api.types.is_float_dtype(df[column]):\n",
    "            validation_results[column] = f\"Column '{column}' should be float type.\"\n",
    "            continue\n",
    "        elif rule['type'] == 'datetime':\n",
    "            df[column] = pd.to_datetime(df[column], errors='coerce')\n",
    "        if not rule['null_allowed'] and df[column].isnull().any():\n",
    "            invalid_rows = df[df[column].isnull()].index.tolist()\n",
    "            validation_results[column] = f\"Column '{column}' contains null values at rows: {invalid_rows}\"\n",
    "            continue\n",
    "        if rule['null_allowed']:\n",
    "            invalid_rows = df[column][df[column].notnull() & ~df[column].apply(rule['rule'])].index.tolist()\n",
    "        else:\n",
    "            invalid_rows = df[column][~df[column].apply(rule['rule'])].index.tolist()\n",
    "        if invalid_rows:\n",
    "            validation_results[column] = f\"Column '{column}' has invalid values at rows: {invalid_rows}\"\n",
    "        else:\n",
    "            validation_results[column] = \"Valid\"\n",
    "    for column, rule in rules.items():\n",
    "        if 'cross_field' not in rule:\n",
    "            continue\n",
    "        invalid_rows = df[~df.apply(rule['cross_field'], axis=1)].index.tolist()\n",
    "        if invalid_rows:\n",
    "            validation_results[column] = f\"Cross-field validation failed at rows: {invalid_rows}\"\n",
    "        else:\n",
    "            validation_results[column] = \"Valid\"\n",
    "    return validation_results"
   ]
  },
  {
   "cell_type": "code",
   "execution_count": 4,
   "id": "cfd6ed51-2f2b-4a4a-96e8-381891a50c04",
   "metadata": {},
   "outputs": [],
   "source": [
    "# Detect anomalies in the dataset using Isolation Forest, focusing on numerical features\n",
    "def detect_anomalies(df):\n",
    "    features = ['Account_Balance', 'Transaction_Amount', 'Reported_Amount']\n",
    "    X = df[features].fillna(0)  # Handle NaN values to prevent errors\n",
    "    iso_forest = IsolationForest(contamination=0.1, random_state=42)  # Adjusted contamination\n",
    "    df['Anomaly'] = iso_forest.fit_predict(X)\n",
    "    return df"
   ]
  },
  {
   "cell_type": "code",
   "execution_count": 5,
   "id": "6e96ffe8-ba91-41bc-bc40-432fff65301a",
   "metadata": {},
   "outputs": [],
   "source": [
    "# Adjust risk scores based on validation failures and anomalies, with configurable weights\n",
    "def adjust_risk_score(row, validation_results):\n",
    "    risk_adjustment = 0\n",
    "    for column, result in validation_results.items():\n",
    "        if 'rows' in str(result):\n",
    "            try:\n",
    "                invalid_rows = [int(r) for r in str(result).split('[')[1].split(']')[0].split(',') if r.strip().isdigit()]\n",
    "                if row.name in invalid_rows:\n",
    "                    risk_adjustment += 2  # Weight for validation failure\n",
    "            except (IndexError, ValueError):\n",
    "                pass\n",
    "    if row['Anomaly'] == -1:\n",
    "        risk_adjustment += 3  # Weight for anomaly\n",
    "    base_score = row['Risk_Score'] if pd.notnull(row['Risk_Score']) else 2.0  # Default to 2.0 if NaN\n",
    "    return base_score + risk_adjustment"
   ]
  },
  {
   "cell_type": "code",
   "execution_count": 6,
   "id": "2ece86d0-8cad-4587-8c07-fd07c51271aa",
   "metadata": {},
   "outputs": [],
   "source": [
    "# Load the sample dataset from CSV file for validation and analysis\n",
    "df = pd.read_csv('sample_data.csv')"
   ]
  },
  {
   "cell_type": "code",
   "execution_count": 7,
   "id": "41079eb3-aeb9-4698-99ab-54dbbdc49f4b",
   "metadata": {},
   "outputs": [],
   "source": [
    "# Preprocess the dataset to ensure correct data types and formats for validation\n",
    "df['Transaction_Date'] = pd.to_datetime(df['Transaction_Date'], errors='coerce')\n",
    "df['Country'] = df['Country'].str.upper()\n",
    "df['Currency'] = df['Currency'].str.upper()\n",
    "# Convert numerical columns to float to fix type issues\n",
    "df['Account_Balance'] = pd.to_numeric(df['Account_Balance'], errors='coerce').astype(float)\n",
    "df['Transaction_Amount'] = pd.to_numeric(df['Transaction_Amount'], errors='coerce').astype(float)\n",
    "df['Reported_Amount'] = pd.to_numeric(df['Reported_Amount'], errors='coerce').astype(float)\n",
    "# Handle null values for required fields\n",
    "df['Currency'] = df['Currency'].fillna('USD')  # Default to USD\n",
    "df['Country'] = df['Country'].fillna('Unknown')  # Default to Unknown\n",
    "df['Transaction_Date'] = df['Transaction_Date'].fillna(pd.Timestamp('2025-01-01'))  # Default date"
   ]
  },
  {
   "cell_type": "code",
   "execution_count": 8,
   "id": "652a8c79-f694-4175-b62f-1478fe118176",
   "metadata": {},
   "outputs": [
    {
     "name": "stdout",
     "output_type": "stream",
     "text": [
      "Validation Results: {'Customer_ID': 'Valid', 'Account_Balance': 'Valid', 'Transaction_Amount': 'Valid', 'Reported_Amount': 'Valid', 'Currency': 'Valid', 'Country': \"Column 'Country' has invalid values at rows: [2]\", 'Transaction_Date': 'Valid', 'Risk_Score': 'Valid', 'Transaction_Amount vs Reported_Amount': 'Cross-field validation failed at rows: [3]', 'Round_Number_Transaction': 'Cross-field validation failed at rows: [3]', 'High_Risk_Transaction': 'Valid'}\n"
     ]
    }
   ],
   "source": [
    "# Run validation on the dataset using the defined profiling rules and display results\n",
    "validation_results = validate_dataset(df, default_profiling_rules)\n",
    "print(\"Validation Results:\", validation_results)"
   ]
  },
  {
   "cell_type": "code",
   "execution_count": 9,
   "id": "14ecae14-9d30-441e-839a-58e97daf0b54",
   "metadata": {},
   "outputs": [
    {
     "name": "stdout",
     "output_type": "stream",
     "text": [
      "Anomaly Detection Results:\n",
      "    Customer_ID  Anomaly\n",
      "0         1001        1\n",
      "1         1002        1\n",
      "2         1003        1\n",
      "3         1004       -1\n"
     ]
    }
   ],
   "source": [
    "# Detect anomalies in the dataset and display the results\n",
    "df = detect_anomalies(df)\n",
    "print(\"Anomaly Detection Results:\\n\", df[['Customer_ID', 'Anomaly']])"
   ]
  },
  {
   "cell_type": "code",
   "execution_count": 10,
   "id": "da961364-0c49-4393-ba0b-0cc039d453e8",
   "metadata": {},
   "outputs": [
    {
     "name": "stdout",
     "output_type": "stream",
     "text": [
      "Adaptive Risk Scores:\n",
      "    Customer_ID  Risk_Score  Adaptive_Risk_Score  Anomaly\n",
      "0         1001         3.0                  3.0        1\n",
      "1         1002         2.0                  2.0        1\n",
      "2         1003         NaN                  4.0        1\n",
      "3         1004         5.0                 12.0       -1\n"
     ]
    }
   ],
   "source": [
    "# Apply adaptive risk scoring to the dataset and display the results\n",
    "df['Adaptive_Risk_Score'] = df.apply(lambda row: adjust_risk_score(row, validation_results), axis=1)\n",
    "print(\"Adaptive Risk Scores:\\n\", df[['Customer_ID', 'Risk_Score', 'Adaptive_Risk_Score', 'Anomaly']])"
   ]
  },
  {
   "cell_type": "code",
   "execution_count": 11,
   "id": "47311d30-3099-4677-bbb7-34f240f6b209",
   "metadata": {},
   "outputs": [
    {
     "name": "stdout",
     "output_type": "stream",
     "text": [
      "Remediation Suggestions:\n",
      "    Customer_ID                            Remediation_Suggestions\n",
      "0         1001                                                 []\n",
      "1         1002                                                 []\n",
      "2         1003  [Correct Country to a valid jurisdiction (e.g....\n",
      "3         1004  [Adjust Reported_Amount to match Transaction_A...\n"
     ]
    }
   ],
   "source": [
    "# Generate remediation suggestions for flagged transactions with detailed explanations\n",
    "def suggest_remediation(row, validation_results):\n",
    "    suggestions = []\n",
    "    for column, result in validation_results.items():\n",
    "        if 'rows' in str(result):\n",
    "            try:\n",
    "                invalid_rows = [int(r) for r in str(result).split('[')[1].split(']')[0].split(',') if r.strip().isdigit()]\n",
    "                if row.name in invalid_rows:\n",
    "                    if column == 'Transaction_Amount vs Reported_Amount':\n",
    "                        suggestions.append(f\"Adjust Reported_Amount to match Transaction_Amount within 1% deviation if cross-currency (Current: Transaction_Amount={row['Transaction_Amount']}, Reported_Amount={row['Reported_Amount']}).\")\n",
    "                    elif column == 'Currency':\n",
    "                        suggestions.append(\"Correct Currency to a valid ISO 4217 code (e.g., USD, EUR, GBP, JPY).\")\n",
    "                    elif column == 'Country':\n",
    "                        suggestions.append(\"Correct Country to a valid jurisdiction (e.g., US, DE, UK, JP).\")\n",
    "                    elif column == 'Transaction_Date':\n",
    "                        suggestions.append(\"Review Transaction_Date; ensure it’s not future-dated or over 365 days old.\")\n",
    "                    elif column == 'Round_Number_Transaction':\n",
    "                        suggestions.append(f\"Review transaction for potential money laundering risk due to round number (Transaction_Amount={row['Transaction_Amount']}).\")\n",
    "            except (IndexError, ValueError):\n",
    "                pass\n",
    "    if row['Anomaly'] == -1:\n",
    "        suggestions.append(\"Review transaction for potential anomalies in Account_Balance, Transaction_Amount, or Reported_Amount.\")\n",
    "    return suggestions\n",
    "\n",
    "df['Remediation_Suggestions'] = df.apply(lambda row: suggest_remediation(row, validation_results), axis=1)\n",
    "print(\"Remediation Suggestions:\\n\", df[['Customer_ID', 'Remediation_Suggestions']])"
   ]
  },
  {
   "cell_type": "code",
   "execution_count": null,
   "id": "1ac4588e-b8d0-4db5-ac4d-9faeb094e166",
   "metadata": {},
   "outputs": [
    {
     "data": {
      "application/vnd.jupyter.widget-view+json": {
       "model_id": "569991c7fecd4a0a880dd9f97dad3502",
       "version_major": 2,
       "version_minor": 0
      },
      "text/plain": [
       "Fetching 7 files:   0%|          | 0/7 [00:00<?, ?it/s]"
      ]
     },
     "metadata": {},
     "output_type": "display_data"
    },
    {
     "data": {
      "application/vnd.jupyter.widget-view+json": {
       "model_id": "a96beaf3eeb94b7d956c73932456ef57",
       "version_major": 2,
       "version_minor": 0
      },
      "text/plain": [
       "model-00007-of-00007.safetensors:  75%|#######5  | 3.08G/4.08G [00:00<?, ?B/s]"
      ]
     },
     "metadata": {},
     "output_type": "display_data"
    },
    {
     "data": {
      "application/vnd.jupyter.widget-view+json": {
       "model_id": "b8a51de39dfa4c278332c44c8452815d",
       "version_major": 2,
       "version_minor": 0
      },
      "text/plain": [
       "model-00001-of-00007.safetensors:  30%|###       | 2.99G/9.90G [00:00<?, ?B/s]"
      ]
     },
     "metadata": {},
     "output_type": "display_data"
    },
    {
     "data": {
      "application/vnd.jupyter.widget-view+json": {
       "model_id": "84577b807ad54ac983c42fc820bae2a4",
       "version_major": 2,
       "version_minor": 0
      },
      "text/plain": [
       "model-00002-of-00007.safetensors:  24%|##3       | 2.33G/9.86G [00:00<?, ?B/s]"
      ]
     },
     "metadata": {},
     "output_type": "display_data"
    },
    {
     "data": {
      "application/vnd.jupyter.widget-view+json": {
       "model_id": "92408119e3f8423eba18f33b0e464a5b",
       "version_major": 2,
       "version_minor": 0
      },
      "text/plain": [
       "model-00005-of-00007.safetensors:   0%|          | 41.9M/9.85G [00:00<?, ?B/s]"
      ]
     },
     "metadata": {},
     "output_type": "display_data"
    },
    {
     "data": {
      "application/vnd.jupyter.widget-view+json": {
       "model_id": "eb7b946612704de0acc70de9a8d2a52b",
       "version_major": 2,
       "version_minor": 0
      },
      "text/plain": [
       "model-00006-of-00007.safetensors:   2%|2         | 241M/9.86G [00:00<?, ?B/s]"
      ]
     },
     "metadata": {},
     "output_type": "display_data"
    },
    {
     "data": {
      "application/vnd.jupyter.widget-view+json": {
       "model_id": "5ba396b021ea40e0967d2e1ae628d3b2",
       "version_major": 2,
       "version_minor": 0
      },
      "text/plain": [
       "model-00003-of-00007.safetensors:   3%|3         | 304M/9.85G [00:00<?, ?B/s]"
      ]
     },
     "metadata": {},
     "output_type": "display_data"
    },
    {
     "data": {
      "application/vnd.jupyter.widget-view+json": {
       "model_id": "8ac2078e2c3b4e45988f187a2900d873",
       "version_major": 2,
       "version_minor": 0
      },
      "text/plain": [
       "model-00004-of-00007.safetensors:  26%|##5       | 2.53G/9.86G [00:00<?, ?B/s]"
      ]
     },
     "metadata": {},
     "output_type": "display_data"
    },
    {
     "name": "stderr",
     "output_type": "stream",
     "text": [
      "Error while downloading from https://cdn-lfs.hf.co/repos/8a/c7/8ac75c6365389b6ca1b539464ff5fce142c1315639eec6f7f29cc93c9d063b0a/66c0e28284d699d79e61adde2db19924ac1bf0b20584dadb33c36abe21c5d425?response-content-disposition=inline%3B+filename*%3DUTF-8%27%27model-00006-of-00007.safetensors%3B+filename%3D%22model-00006-of-00007.safetensors%22%3B&Expires=1743002743&Policy=eyJTdGF0ZW1lbnQiOlt7IkNvbmRpdGlvbiI6eyJEYXRlTGVzc1RoYW4iOnsiQVdTOkVwb2NoVGltZSI6MTc0MzAwMjc0M319LCJSZXNvdXJjZSI6Imh0dHBzOi8vY2RuLWxmcy5oZi5jby9yZXBvcy84YS9jNy84YWM3NWM2MzY1Mzg5YjZjYTFiNTM5NDY0ZmY1ZmNlMTQyYzEzMTU2MzllZWM2ZjdmMjljYzkzYzlkMDYzYjBhLzY2YzBlMjgyODRkNjk5ZDc5ZTYxYWRkZTJkYjE5OTI0YWMxYmYwYjIwNTg0ZGFkYjMzYzM2YWJlMjFjNWQ0MjU%7EcmVzcG9uc2UtY29udGVudC1kaXNwb3NpdGlvbj0qIn1dfQ__&Signature=K9N7gg-YZOZt8g5E7Rq31PriH1VyVwxqL%7EnqwTfKVq4WyPQlJohxW3qE%7ELNQ42EA5tHPrB84EAY9JxTT8RdQfQLI8YTaxpxViJzAny4VFS8m3wqw74KnlO0abasRCSBtWSh%7E3xMxRmhrSbuYvF9ay6W2X-O%7E64dkVH06IPT8wDQJDEu%7EOhkmAvc8hrxrehxnAyvs1z6wh3A%7Ev-eRFH2QAvDr%7EwPqFwjcRZ8%7E0mZE5M4EHOB3NmNNQLCPTn%7EE3ritQzx%7EaM3sIVUMbn%7Eo%7EBepDURioUWueLEediKFrrVEn5zyE25yOPOryQBKEOiJDq7DBugsBrPsjzciEKlvBQjzBg__&Key-Pair-Id=K3RPWS32NSSJCE: HTTPSConnectionPool(host='cdn-lfs.hf.co', port=443): Read timed out.\n",
      "Trying to resume download...\n"
     ]
    },
    {
     "data": {
      "application/vnd.jupyter.widget-view+json": {
       "model_id": "9cd9d8996ea84d9f9ede21dfb332bf3c",
       "version_major": 2,
       "version_minor": 0
      },
      "text/plain": [
       "model-00006-of-00007.safetensors:   2%|2         | 241M/9.86G [00:00<?, ?B/s]"
      ]
     },
     "metadata": {},
     "output_type": "display_data"
    },
    {
     "name": "stderr",
     "output_type": "stream",
     "text": [
      "Error while downloading from https://cdn-lfs.hf.co/repos/8a/c7/8ac75c6365389b6ca1b539464ff5fce142c1315639eec6f7f29cc93c9d063b0a/00eb327bb77018f0d9df9332faa904f9dcc9b1c9e2f7fe981dec4af5b808dffb?response-content-disposition=inline%3B+filename*%3DUTF-8%27%27model-00002-of-00007.safetensors%3B+filename%3D%22model-00002-of-00007.safetensors%22%3B&Expires=1743002743&Policy=eyJTdGF0ZW1lbnQiOlt7IkNvbmRpdGlvbiI6eyJEYXRlTGVzc1RoYW4iOnsiQVdTOkVwb2NoVGltZSI6MTc0MzAwMjc0M319LCJSZXNvdXJjZSI6Imh0dHBzOi8vY2RuLWxmcy5oZi5jby9yZXBvcy84YS9jNy84YWM3NWM2MzY1Mzg5YjZjYTFiNTM5NDY0ZmY1ZmNlMTQyYzEzMTU2MzllZWM2ZjdmMjljYzkzYzlkMDYzYjBhLzAwZWIzMjdiYjc3MDE4ZjBkOWRmOTMzMmZhYTkwNGY5ZGNjOWIxYzllMmY3ZmU5ODFkZWM0YWY1YjgwOGRmZmI%7EcmVzcG9uc2UtY29udGVudC1kaXNwb3NpdGlvbj0qIn1dfQ__&Signature=dFZHVshqIc7leAjN6LBxLtXrGvrFXSZ4389sD%7E4v19efFGXPB4n0g1-ou%7E2IUoVQK0n%7El35ylK4rt3EEHvU8llN4jraO4hOsVLQoBhqsAbEMFNv2YCnd23tfJLrdqlmnWMBdVwyfGHETGieUxPh24ziAWese%7EyAksZzLaNcZmTcbcXmhnSOo9pihYPZJSFoVG8UmwEKbpGERPvGTVHUd5SFu-ejD1IQ0q9vvz%7ETPVlFH599xYyPWgxidQDY%7EsXh7OiMMMUmCmrG4d9RrxRdfT6C4EFDQKzebpRzoxv3QO3OgrpxPp%7EjoH2KEdqLtLDgIpkeit%7E4RSiiQXB1TtA1XLQ__&Key-Pair-Id=K3RPWS32NSSJCE: HTTPSConnectionPool(host='cdn-lfs.hf.co', port=443): Read timed out.\n",
      "Trying to resume download...\n"
     ]
    },
    {
     "data": {
      "application/vnd.jupyter.widget-view+json": {
       "model_id": "fbb9a38e199e4b0785ef54ef79953505",
       "version_major": 2,
       "version_minor": 0
      },
      "text/plain": [
       "model-00002-of-00007.safetensors:  24%|##3       | 2.33G/9.86G [00:00<?, ?B/s]"
      ]
     },
     "metadata": {},
     "output_type": "display_data"
    },
    {
     "name": "stderr",
     "output_type": "stream",
     "text": [
      "Error while downloading from https://cdn-lfs.hf.co/repos/8a/c7/8ac75c6365389b6ca1b539464ff5fce142c1315639eec6f7f29cc93c9d063b0a/16a5a40feabc66ce61e45264293dc93efa993a36110f145fb3c77caf332e2186?response-content-disposition=inline%3B+filename*%3DUTF-8%27%27model-00005-of-00007.safetensors%3B+filename%3D%22model-00005-of-00007.safetensors%22%3B&Expires=1743002743&Policy=eyJTdGF0ZW1lbnQiOlt7IkNvbmRpdGlvbiI6eyJEYXRlTGVzc1RoYW4iOnsiQVdTOkVwb2NoVGltZSI6MTc0MzAwMjc0M319LCJSZXNvdXJjZSI6Imh0dHBzOi8vY2RuLWxmcy5oZi5jby9yZXBvcy84YS9jNy84YWM3NWM2MzY1Mzg5YjZjYTFiNTM5NDY0ZmY1ZmNlMTQyYzEzMTU2MzllZWM2ZjdmMjljYzkzYzlkMDYzYjBhLzE2YTVhNDBmZWFiYzY2Y2U2MWU0NTI2NDI5M2RjOTNlZmE5OTNhMzYxMTBmMTQ1ZmIzYzc3Y2FmMzMyZTIxODY%7EcmVzcG9uc2UtY29udGVudC1kaXNwb3NpdGlvbj0qIn1dfQ__&Signature=ZdNHPzcKGOvUwGFg%7E8k7XK-xPsJqYVZf7ZIxxEqTxULC1t6RjNVDD1zHYqmnNkDY5dWKT30HATudcdyCmP40GV0P9Zf2kX1N56k8TsjwocNyFFkxTlhAbRvGfXXf%7E5MU8lDusJUAuZ5zlWFGgVApAOjWPHtELh1h4z9lb6BinAm767QiJVO1NGbTv8Sq2qvoWjY8UUTGw6adw6UngLrtPbfCE6xk1lXmDOEVURyeqfmdC3N%7E9XVns0Esafemrjuu2s86JGy5ZfvnCUk2XolSb0s5bc7mSDmCIgdwyLBLDrPlJ8J0qVwU1M6oe9jnYtkSpdubVs598pXCNDvuzJtsEg__&Key-Pair-Id=K3RPWS32NSSJCE: HTTPSConnectionPool(host='cdn-lfs.hf.co', port=443): Read timed out.\n",
      "Trying to resume download...\n",
      "Error while downloading from https://cdn-lfs.hf.co/repos/8a/c7/8ac75c6365389b6ca1b539464ff5fce142c1315639eec6f7f29cc93c9d063b0a/6d486fe6dc139b44a0a66e451440a5345b8829cf9487ab5304e6cfe1386bf77f?response-content-disposition=inline%3B+filename*%3DUTF-8%27%27model-00004-of-00007.safetensors%3B+filename%3D%22model-00004-of-00007.safetensors%22%3B&Expires=1743002743&Policy=eyJTdGF0ZW1lbnQiOlt7IkNvbmRpdGlvbiI6eyJEYXRlTGVzc1RoYW4iOnsiQVdTOkVwb2NoVGltZSI6MTc0MzAwMjc0M319LCJSZXNvdXJjZSI6Imh0dHBzOi8vY2RuLWxmcy5oZi5jby9yZXBvcy84YS9jNy84YWM3NWM2MzY1Mzg5YjZjYTFiNTM5NDY0ZmY1ZmNlMTQyYzEzMTU2MzllZWM2ZjdmMjljYzkzYzlkMDYzYjBhLzZkNDg2ZmU2ZGMxMzliNDRhMGE2NmU0NTE0NDBhNTM0NWI4ODI5Y2Y5NDg3YWI1MzA0ZTZjZmUxMzg2YmY3N2Y%7EcmVzcG9uc2UtY29udGVudC1kaXNwb3NpdGlvbj0qIn1dfQ__&Signature=F%7EePpyJbEKRHSnGBbqSRX2ueB9S33q-VrvjTUU5fO-GnDeF%7ELhBX3qo5ZCQAl5FqxkM4Y7yXheyY31M1AgeUKLvmanS%7EDlHL7t573iajx39anFQN7GSVycGaj69BManR3VZnytsFErFUi%7E2jkBQCsRRZQEv-6yysDciDH8nFZUkT7jhzbzNhlrAkYlFgpSLPXwZ4wjxXrZOEawoXEy%7EsaKi9xfsGrGrbMJmQO0eM6X38ZlWE9wPuXhQ9IE80po8QcZPnTyKpomnxV4IqKzaffisbyh0S6Vm8YY4VT-UIE%7EVu4DS096uDwYF63y9luA6lXOrRzLqNQenpFxSUK3mFsQ__&Key-Pair-Id=K3RPWS32NSSJCE: HTTPSConnectionPool(host='cdn-lfs.hf.co', port=443): Read timed out.\n",
      "Trying to resume download...\n",
      "Error while downloading from https://cdn-lfs.hf.co/repos/8a/c7/8ac75c6365389b6ca1b539464ff5fce142c1315639eec6f7f29cc93c9d063b0a/00eb327bb77018f0d9df9332faa904f9dcc9b1c9e2f7fe981dec4af5b808dffb?response-content-disposition=inline%3B+filename*%3DUTF-8%27%27model-00002-of-00007.safetensors%3B+filename%3D%22model-00002-of-00007.safetensors%22%3B&Expires=1743002743&Policy=eyJTdGF0ZW1lbnQiOlt7IkNvbmRpdGlvbiI6eyJEYXRlTGVzc1RoYW4iOnsiQVdTOkVwb2NoVGltZSI6MTc0MzAwMjc0M319LCJSZXNvdXJjZSI6Imh0dHBzOi8vY2RuLWxmcy5oZi5jby9yZXBvcy84YS9jNy84YWM3NWM2MzY1Mzg5YjZjYTFiNTM5NDY0ZmY1ZmNlMTQyYzEzMTU2MzllZWM2ZjdmMjljYzkzYzlkMDYzYjBhLzAwZWIzMjdiYjc3MDE4ZjBkOWRmOTMzMmZhYTkwNGY5ZGNjOWIxYzllMmY3ZmU5ODFkZWM0YWY1YjgwOGRmZmI%7EcmVzcG9uc2UtY29udGVudC1kaXNwb3NpdGlvbj0qIn1dfQ__&Signature=dFZHVshqIc7leAjN6LBxLtXrGvrFXSZ4389sD%7E4v19efFGXPB4n0g1-ou%7E2IUoVQK0n%7El35ylK4rt3EEHvU8llN4jraO4hOsVLQoBhqsAbEMFNv2YCnd23tfJLrdqlmnWMBdVwyfGHETGieUxPh24ziAWese%7EyAksZzLaNcZmTcbcXmhnSOo9pihYPZJSFoVG8UmwEKbpGERPvGTVHUd5SFu-ejD1IQ0q9vvz%7ETPVlFH599xYyPWgxidQDY%7EsXh7OiMMMUmCmrG4d9RrxRdfT6C4EFDQKzebpRzoxv3QO3OgrpxPp%7EjoH2KEdqLtLDgIpkeit%7E4RSiiQXB1TtA1XLQ__&Key-Pair-Id=K3RPWS32NSSJCE: HTTPSConnectionPool(host='cdn-lfs.hf.co', port=443): Read timed out.\n",
      "Trying to resume download...\n",
      "Error while downloading from https://cdn-lfs.hf.co/repos/8a/c7/8ac75c6365389b6ca1b539464ff5fce142c1315639eec6f7f29cc93c9d063b0a/82683d6485644c56ee7067a2cc524d547ce53a83c36135c0dda9eea6fc550307?response-content-disposition=inline%3B+filename*%3DUTF-8%27%27model-00007-of-00007.safetensors%3B+filename%3D%22model-00007-of-00007.safetensors%22%3B&Expires=1743002743&Policy=eyJTdGF0ZW1lbnQiOlt7IkNvbmRpdGlvbiI6eyJEYXRlTGVzc1RoYW4iOnsiQVdTOkVwb2NoVGltZSI6MTc0MzAwMjc0M319LCJSZXNvdXJjZSI6Imh0dHBzOi8vY2RuLWxmcy5oZi5jby9yZXBvcy84YS9jNy84YWM3NWM2MzY1Mzg5YjZjYTFiNTM5NDY0ZmY1ZmNlMTQyYzEzMTU2MzllZWM2ZjdmMjljYzkzYzlkMDYzYjBhLzgyNjgzZDY0ODU2NDRjNTZlZTcwNjdhMmNjNTI0ZDU0N2NlNTNhODNjMzYxMzVjMGRkYTllZWE2ZmM1NTAzMDc%7EcmVzcG9uc2UtY29udGVudC1kaXNwb3NpdGlvbj0qIn1dfQ__&Signature=j9rlas6U7gB2VQHCqeFr5D0SauokI9zgz7Si69CTQsDDTbw6%7EhE6yKOeWVjUkyQ%7EzZbCTKw-Hjzo-S8e-iQNO6NAaLY19vvIBZSne7JjZmJenD3BjbYrKunPB6NFxJUq00egPa55aNNOFGMJd297GEBkeqt%7ELGPzFmQQF3Rz8ieNg%7EXyjQYRzpeCHMYowB02dDsXu%7Ej-Bk%7EUQqPzGCB7WFq7joo8AEeNEbnsxjbFz0XmmeQGGRwEGvDL12PYN105CgN1NBtPIwzjxeScIXMmmQcUoFOzHQ4W8iL6%7ET2pJB6yjP2X8AR-VDmEWUBunWWbjyw%7EmhIWJSzFsSpz8lP23Q__&Key-Pair-Id=K3RPWS32NSSJCE: HTTPSConnectionPool(host='cdn-lfs.hf.co', port=443): Read timed out.\n",
      "Trying to resume download...\n",
      "Error while downloading from https://cdn-lfs.hf.co/repos/8a/c7/8ac75c6365389b6ca1b539464ff5fce142c1315639eec6f7f29cc93c9d063b0a/ccd6dd0e3c3583dd397637b9eb3fea110c4eb5c9b5a8c3e302777452202716ef?response-content-disposition=inline%3B+filename*%3DUTF-8%27%27model-00003-of-00007.safetensors%3B+filename%3D%22model-00003-of-00007.safetensors%22%3B&Expires=1743002743&Policy=eyJTdGF0ZW1lbnQiOlt7IkNvbmRpdGlvbiI6eyJEYXRlTGVzc1RoYW4iOnsiQVdTOkVwb2NoVGltZSI6MTc0MzAwMjc0M319LCJSZXNvdXJjZSI6Imh0dHBzOi8vY2RuLWxmcy5oZi5jby9yZXBvcy84YS9jNy84YWM3NWM2MzY1Mzg5YjZjYTFiNTM5NDY0ZmY1ZmNlMTQyYzEzMTU2MzllZWM2ZjdmMjljYzkzYzlkMDYzYjBhL2NjZDZkZDBlM2MzNTgzZGQzOTc2MzdiOWViM2ZlYTExMGM0ZWI1YzliNWE4YzNlMzAyNzc3NDUyMjAyNzE2ZWY%7EcmVzcG9uc2UtY29udGVudC1kaXNwb3NpdGlvbj0qIn1dfQ__&Signature=k-HJcsJzB0jK9BuEd3p8vAhY28L9YG44trP3I-zuMbJv8mJJQJ-zghqbRlaSkZ5Agc3nKT-VzBTUBVl9Dd%7E-ulmzXquSzoOolj1fshARymFFWZNCrooFtf-DJEEvH9j6Zqgp0PQ2RgysXlO3Kt%7E6Qk%7E2eUjuDo8lFxKDhcdE58keYgn5cyUEmo9Czfzv4gjPGbVnfV-tx3l8LYmI%7EN3p9DSSCl6cw%7Esr7l7jK%7Ezjo6ohBQmcMOWCcdl3qN30jq%7EQTGzgl6gM6ju%7EZy8mO1YF8dFjq76GShQXc4At3IZ0JJwDhTeo6c88T-m18yhIQH8r6HQjHMpkkJJPyMkb1ujVWw__&Key-Pair-Id=K3RPWS32NSSJCE: HTTPSConnectionPool(host='cdn-lfs.hf.co', port=443): Read timed out.\n",
      "Trying to resume download...\n"
     ]
    },
    {
     "data": {
      "application/vnd.jupyter.widget-view+json": {
       "model_id": "76382ff6bd9d4f848959293521f21b0e",
       "version_major": 2,
       "version_minor": 0
      },
      "text/plain": [
       "model-00002-of-00007.safetensors:  24%|##3       | 2.33G/9.86G [00:00<?, ?B/s]"
      ]
     },
     "metadata": {},
     "output_type": "display_data"
    },
    {
     "name": "stderr",
     "output_type": "stream",
     "text": [
      "Error while downloading from https://cdn-lfs.hf.co/repos/8a/c7/8ac75c6365389b6ca1b539464ff5fce142c1315639eec6f7f29cc93c9d063b0a/08dc737cea124916697803456dffbe63234705c7e41eee411410a62ae0e3e6dd?response-content-disposition=inline%3B+filename*%3DUTF-8%27%27model-00001-of-00007.safetensors%3B+filename%3D%22model-00001-of-00007.safetensors%22%3B&Expires=1743002743&Policy=eyJTdGF0ZW1lbnQiOlt7IkNvbmRpdGlvbiI6eyJEYXRlTGVzc1RoYW4iOnsiQVdTOkVwb2NoVGltZSI6MTc0MzAwMjc0M319LCJSZXNvdXJjZSI6Imh0dHBzOi8vY2RuLWxmcy5oZi5jby9yZXBvcy84YS9jNy84YWM3NWM2MzY1Mzg5YjZjYTFiNTM5NDY0ZmY1ZmNlMTQyYzEzMTU2MzllZWM2ZjdmMjljYzkzYzlkMDYzYjBhLzA4ZGM3MzdjZWExMjQ5MTY2OTc4MDM0NTZkZmZiZTYzMjM0NzA1YzdlNDFlZWU0MTE0MTBhNjJhZTBlM2U2ZGQ%7EcmVzcG9uc2UtY29udGVudC1kaXNwb3NpdGlvbj0qIn1dfQ__&Signature=jPPKFoDmt%7Ecpi034Ujght7xmPB235T-7T-04rFj8eT%7E7dnm2nr1xXFmRAKq65YTT92xhP75jZ3rsSj7wzuGsCCFhZdhSQEhaZzZzZSuQpGEtk3M1XC3MLauXHnIFbKVfymFfTOmunDhLf7aFXf7uXLiKqpVPzmmozNxwCMbZDVeLYHH7ELHJ9HVVdPuuuHCyzfQHMGG9dIUT1yFLoTAoma1Xj6100EPy5CvRXxKJv8qCehkyY6nMZofsguO9AOrdfaaULnR-cU3WPzZDjdmg%7EQAgrH3xH13xiHeafmioz7fu%7EA-ug%7EOyHUyEY8B%7EZdT4NGJWlMgVhtkEZZ69ltslBw__&Key-Pair-Id=K3RPWS32NSSJCE: HTTPSConnectionPool(host='cdn-lfs.hf.co', port=443): Read timed out.\n",
      "Trying to resume download...\n"
     ]
    },
    {
     "data": {
      "application/vnd.jupyter.widget-view+json": {
       "model_id": "b1c0bd56b7374e7eb28c73dfad6b63c1",
       "version_major": 2,
       "version_minor": 0
      },
      "text/plain": [
       "model-00001-of-00007.safetensors:  31%|###1      | 3.09G/9.90G [00:00<?, ?B/s]"
      ]
     },
     "metadata": {},
     "output_type": "display_data"
    },
    {
     "name": "stderr",
     "output_type": "stream",
     "text": [
      "Error while downloading from https://cdn-lfs.hf.co/repos/8a/c7/8ac75c6365389b6ca1b539464ff5fce142c1315639eec6f7f29cc93c9d063b0a/66c0e28284d699d79e61adde2db19924ac1bf0b20584dadb33c36abe21c5d425?response-content-disposition=inline%3B+filename*%3DUTF-8%27%27model-00006-of-00007.safetensors%3B+filename%3D%22model-00006-of-00007.safetensors%22%3B&Expires=1743002743&Policy=eyJTdGF0ZW1lbnQiOlt7IkNvbmRpdGlvbiI6eyJEYXRlTGVzc1RoYW4iOnsiQVdTOkVwb2NoVGltZSI6MTc0MzAwMjc0M319LCJSZXNvdXJjZSI6Imh0dHBzOi8vY2RuLWxmcy5oZi5jby9yZXBvcy84YS9jNy84YWM3NWM2MzY1Mzg5YjZjYTFiNTM5NDY0ZmY1ZmNlMTQyYzEzMTU2MzllZWM2ZjdmMjljYzkzYzlkMDYzYjBhLzY2YzBlMjgyODRkNjk5ZDc5ZTYxYWRkZTJkYjE5OTI0YWMxYmYwYjIwNTg0ZGFkYjMzYzM2YWJlMjFjNWQ0MjU%7EcmVzcG9uc2UtY29udGVudC1kaXNwb3NpdGlvbj0qIn1dfQ__&Signature=K9N7gg-YZOZt8g5E7Rq31PriH1VyVwxqL%7EnqwTfKVq4WyPQlJohxW3qE%7ELNQ42EA5tHPrB84EAY9JxTT8RdQfQLI8YTaxpxViJzAny4VFS8m3wqw74KnlO0abasRCSBtWSh%7E3xMxRmhrSbuYvF9ay6W2X-O%7E64dkVH06IPT8wDQJDEu%7EOhkmAvc8hrxrehxnAyvs1z6wh3A%7Ev-eRFH2QAvDr%7EwPqFwjcRZ8%7E0mZE5M4EHOB3NmNNQLCPTn%7EE3ritQzx%7EaM3sIVUMbn%7Eo%7EBepDURioUWueLEediKFrrVEn5zyE25yOPOryQBKEOiJDq7DBugsBrPsjzciEKlvBQjzBg__&Key-Pair-Id=K3RPWS32NSSJCE: HTTPSConnectionPool(host='cdn-lfs.hf.co', port=443): Read timed out.\n",
      "Trying to resume download...\n"
     ]
    },
    {
     "data": {
      "application/vnd.jupyter.widget-view+json": {
       "model_id": "553d89043a004682bffbb98c1689ff17",
       "version_major": 2,
       "version_minor": 0
      },
      "text/plain": [
       "model-00006-of-00007.safetensors:   3%|3         | 315M/9.86G [00:00<?, ?B/s]"
      ]
     },
     "metadata": {},
     "output_type": "display_data"
    },
    {
     "name": "stderr",
     "output_type": "stream",
     "text": [
      "Error while downloading from https://cdn-lfs.hf.co/repos/8a/c7/8ac75c6365389b6ca1b539464ff5fce142c1315639eec6f7f29cc93c9d063b0a/00eb327bb77018f0d9df9332faa904f9dcc9b1c9e2f7fe981dec4af5b808dffb?response-content-disposition=inline%3B+filename*%3DUTF-8%27%27model-00002-of-00007.safetensors%3B+filename%3D%22model-00002-of-00007.safetensors%22%3B&Expires=1743002743&Policy=eyJTdGF0ZW1lbnQiOlt7IkNvbmRpdGlvbiI6eyJEYXRlTGVzc1RoYW4iOnsiQVdTOkVwb2NoVGltZSI6MTc0MzAwMjc0M319LCJSZXNvdXJjZSI6Imh0dHBzOi8vY2RuLWxmcy5oZi5jby9yZXBvcy84YS9jNy84YWM3NWM2MzY1Mzg5YjZjYTFiNTM5NDY0ZmY1ZmNlMTQyYzEzMTU2MzllZWM2ZjdmMjljYzkzYzlkMDYzYjBhLzAwZWIzMjdiYjc3MDE4ZjBkOWRmOTMzMmZhYTkwNGY5ZGNjOWIxYzllMmY3ZmU5ODFkZWM0YWY1YjgwOGRmZmI%7EcmVzcG9uc2UtY29udGVudC1kaXNwb3NpdGlvbj0qIn1dfQ__&Signature=dFZHVshqIc7leAjN6LBxLtXrGvrFXSZ4389sD%7E4v19efFGXPB4n0g1-ou%7E2IUoVQK0n%7El35ylK4rt3EEHvU8llN4jraO4hOsVLQoBhqsAbEMFNv2YCnd23tfJLrdqlmnWMBdVwyfGHETGieUxPh24ziAWese%7EyAksZzLaNcZmTcbcXmhnSOo9pihYPZJSFoVG8UmwEKbpGERPvGTVHUd5SFu-ejD1IQ0q9vvz%7ETPVlFH599xYyPWgxidQDY%7EsXh7OiMMMUmCmrG4d9RrxRdfT6C4EFDQKzebpRzoxv3QO3OgrpxPp%7EjoH2KEdqLtLDgIpkeit%7E4RSiiQXB1TtA1XLQ__&Key-Pair-Id=K3RPWS32NSSJCE: HTTPSConnectionPool(host='cdn-lfs.hf.co', port=443): Read timed out.\n",
      "Trying to resume download...\n"
     ]
    },
    {
     "data": {
      "application/vnd.jupyter.widget-view+json": {
       "model_id": "644b4035718c4bfcbdad9b670a24abf9",
       "version_major": 2,
       "version_minor": 0
      },
      "text/plain": [
       "model-00002-of-00007.safetensors:  26%|##5       | 2.52G/9.86G [00:00<?, ?B/s]"
      ]
     },
     "metadata": {},
     "output_type": "display_data"
    },
    {
     "name": "stderr",
     "output_type": "stream",
     "text": [
      "Error while downloading from https://cdn-lfs.hf.co/repos/8a/c7/8ac75c6365389b6ca1b539464ff5fce142c1315639eec6f7f29cc93c9d063b0a/66c0e28284d699d79e61adde2db19924ac1bf0b20584dadb33c36abe21c5d425?response-content-disposition=inline%3B+filename*%3DUTF-8%27%27model-00006-of-00007.safetensors%3B+filename%3D%22model-00006-of-00007.safetensors%22%3B&Expires=1743002743&Policy=eyJTdGF0ZW1lbnQiOlt7IkNvbmRpdGlvbiI6eyJEYXRlTGVzc1RoYW4iOnsiQVdTOkVwb2NoVGltZSI6MTc0MzAwMjc0M319LCJSZXNvdXJjZSI6Imh0dHBzOi8vY2RuLWxmcy5oZi5jby9yZXBvcy84YS9jNy84YWM3NWM2MzY1Mzg5YjZjYTFiNTM5NDY0ZmY1ZmNlMTQyYzEzMTU2MzllZWM2ZjdmMjljYzkzYzlkMDYzYjBhLzY2YzBlMjgyODRkNjk5ZDc5ZTYxYWRkZTJkYjE5OTI0YWMxYmYwYjIwNTg0ZGFkYjMzYzM2YWJlMjFjNWQ0MjU%7EcmVzcG9uc2UtY29udGVudC1kaXNwb3NpdGlvbj0qIn1dfQ__&Signature=K9N7gg-YZOZt8g5E7Rq31PriH1VyVwxqL%7EnqwTfKVq4WyPQlJohxW3qE%7ELNQ42EA5tHPrB84EAY9JxTT8RdQfQLI8YTaxpxViJzAny4VFS8m3wqw74KnlO0abasRCSBtWSh%7E3xMxRmhrSbuYvF9ay6W2X-O%7E64dkVH06IPT8wDQJDEu%7EOhkmAvc8hrxrehxnAyvs1z6wh3A%7Ev-eRFH2QAvDr%7EwPqFwjcRZ8%7E0mZE5M4EHOB3NmNNQLCPTn%7EE3ritQzx%7EaM3sIVUMbn%7Eo%7EBepDURioUWueLEediKFrrVEn5zyE25yOPOryQBKEOiJDq7DBugsBrPsjzciEKlvBQjzBg__&Key-Pair-Id=K3RPWS32NSSJCE: HTTPSConnectionPool(host='cdn-lfs.hf.co', port=443): Read timed out.\n",
      "Trying to resume download...\n",
      "Error while downloading from https://cdn-lfs.hf.co/repos/8a/c7/8ac75c6365389b6ca1b539464ff5fce142c1315639eec6f7f29cc93c9d063b0a/08dc737cea124916697803456dffbe63234705c7e41eee411410a62ae0e3e6dd?response-content-disposition=inline%3B+filename*%3DUTF-8%27%27model-00001-of-00007.safetensors%3B+filename%3D%22model-00001-of-00007.safetensors%22%3B&Expires=1743002743&Policy=eyJTdGF0ZW1lbnQiOlt7IkNvbmRpdGlvbiI6eyJEYXRlTGVzc1RoYW4iOnsiQVdTOkVwb2NoVGltZSI6MTc0MzAwMjc0M319LCJSZXNvdXJjZSI6Imh0dHBzOi8vY2RuLWxmcy5oZi5jby9yZXBvcy84YS9jNy84YWM3NWM2MzY1Mzg5YjZjYTFiNTM5NDY0ZmY1ZmNlMTQyYzEzMTU2MzllZWM2ZjdmMjljYzkzYzlkMDYzYjBhLzA4ZGM3MzdjZWExMjQ5MTY2OTc4MDM0NTZkZmZiZTYzMjM0NzA1YzdlNDFlZWU0MTE0MTBhNjJhZTBlM2U2ZGQ%7EcmVzcG9uc2UtY29udGVudC1kaXNwb3NpdGlvbj0qIn1dfQ__&Signature=jPPKFoDmt%7Ecpi034Ujght7xmPB235T-7T-04rFj8eT%7E7dnm2nr1xXFmRAKq65YTT92xhP75jZ3rsSj7wzuGsCCFhZdhSQEhaZzZzZSuQpGEtk3M1XC3MLauXHnIFbKVfymFfTOmunDhLf7aFXf7uXLiKqpVPzmmozNxwCMbZDVeLYHH7ELHJ9HVVdPuuuHCyzfQHMGG9dIUT1yFLoTAoma1Xj6100EPy5CvRXxKJv8qCehkyY6nMZofsguO9AOrdfaaULnR-cU3WPzZDjdmg%7EQAgrH3xH13xiHeafmioz7fu%7EA-ug%7EOyHUyEY8B%7EZdT4NGJWlMgVhtkEZZ69ltslBw__&Key-Pair-Id=K3RPWS32NSSJCE: HTTPSConnectionPool(host='cdn-lfs.hf.co', port=443): Read timed out.\n",
      "Trying to resume download...\n"
     ]
    },
    {
     "data": {
      "application/vnd.jupyter.widget-view+json": {
       "model_id": "2fbb0ef44c644b538d371d02c89930a2",
       "version_major": 2,
       "version_minor": 0
      },
      "text/plain": [
       "model-00001-of-00007.safetensors:  34%|###4      | 3.41G/9.90G [00:00<?, ?B/s]"
      ]
     },
     "metadata": {},
     "output_type": "display_data"
    },
    {
     "name": "stderr",
     "output_type": "stream",
     "text": [
      "Error while downloading from https://cdn-lfs.hf.co/repos/8a/c7/8ac75c6365389b6ca1b539464ff5fce142c1315639eec6f7f29cc93c9d063b0a/08dc737cea124916697803456dffbe63234705c7e41eee411410a62ae0e3e6dd?response-content-disposition=inline%3B+filename*%3DUTF-8%27%27model-00001-of-00007.safetensors%3B+filename%3D%22model-00001-of-00007.safetensors%22%3B&Expires=1743002743&Policy=eyJTdGF0ZW1lbnQiOlt7IkNvbmRpdGlvbiI6eyJEYXRlTGVzc1RoYW4iOnsiQVdTOkVwb2NoVGltZSI6MTc0MzAwMjc0M319LCJSZXNvdXJjZSI6Imh0dHBzOi8vY2RuLWxmcy5oZi5jby9yZXBvcy84YS9jNy84YWM3NWM2MzY1Mzg5YjZjYTFiNTM5NDY0ZmY1ZmNlMTQyYzEzMTU2MzllZWM2ZjdmMjljYzkzYzlkMDYzYjBhLzA4ZGM3MzdjZWExMjQ5MTY2OTc4MDM0NTZkZmZiZTYzMjM0NzA1YzdlNDFlZWU0MTE0MTBhNjJhZTBlM2U2ZGQ%7EcmVzcG9uc2UtY29udGVudC1kaXNwb3NpdGlvbj0qIn1dfQ__&Signature=jPPKFoDmt%7Ecpi034Ujght7xmPB235T-7T-04rFj8eT%7E7dnm2nr1xXFmRAKq65YTT92xhP75jZ3rsSj7wzuGsCCFhZdhSQEhaZzZzZSuQpGEtk3M1XC3MLauXHnIFbKVfymFfTOmunDhLf7aFXf7uXLiKqpVPzmmozNxwCMbZDVeLYHH7ELHJ9HVVdPuuuHCyzfQHMGG9dIUT1yFLoTAoma1Xj6100EPy5CvRXxKJv8qCehkyY6nMZofsguO9AOrdfaaULnR-cU3WPzZDjdmg%7EQAgrH3xH13xiHeafmioz7fu%7EA-ug%7EOyHUyEY8B%7EZdT4NGJWlMgVhtkEZZ69ltslBw__&Key-Pair-Id=K3RPWS32NSSJCE: HTTPSConnectionPool(host='cdn-lfs.hf.co', port=443): Read timed out.\n",
      "Trying to resume download...\n"
     ]
    },
    {
     "data": {
      "application/vnd.jupyter.widget-view+json": {
       "model_id": "97a21bf1457a44eca09e3d9e526efbe3",
       "version_major": 2,
       "version_minor": 0
      },
      "text/plain": [
       "model-00001-of-00007.safetensors:  61%|######1   | 6.05G/9.90G [00:00<?, ?B/s]"
      ]
     },
     "metadata": {},
     "output_type": "display_data"
    },
    {
     "name": "stderr",
     "output_type": "stream",
     "text": [
      "Error while downloading from https://cdn-lfs.hf.co/repos/8a/c7/8ac75c6365389b6ca1b539464ff5fce142c1315639eec6f7f29cc93c9d063b0a/00eb327bb77018f0d9df9332faa904f9dcc9b1c9e2f7fe981dec4af5b808dffb?response-content-disposition=inline%3B+filename*%3DUTF-8%27%27model-00002-of-00007.safetensors%3B+filename%3D%22model-00002-of-00007.safetensors%22%3B&Expires=1743002743&Policy=eyJTdGF0ZW1lbnQiOlt7IkNvbmRpdGlvbiI6eyJEYXRlTGVzc1RoYW4iOnsiQVdTOkVwb2NoVGltZSI6MTc0MzAwMjc0M319LCJSZXNvdXJjZSI6Imh0dHBzOi8vY2RuLWxmcy5oZi5jby9yZXBvcy84YS9jNy84YWM3NWM2MzY1Mzg5YjZjYTFiNTM5NDY0ZmY1ZmNlMTQyYzEzMTU2MzllZWM2ZjdmMjljYzkzYzlkMDYzYjBhLzAwZWIzMjdiYjc3MDE4ZjBkOWRmOTMzMmZhYTkwNGY5ZGNjOWIxYzllMmY3ZmU5ODFkZWM0YWY1YjgwOGRmZmI%7EcmVzcG9uc2UtY29udGVudC1kaXNwb3NpdGlvbj0qIn1dfQ__&Signature=dFZHVshqIc7leAjN6LBxLtXrGvrFXSZ4389sD%7E4v19efFGXPB4n0g1-ou%7E2IUoVQK0n%7El35ylK4rt3EEHvU8llN4jraO4hOsVLQoBhqsAbEMFNv2YCnd23tfJLrdqlmnWMBdVwyfGHETGieUxPh24ziAWese%7EyAksZzLaNcZmTcbcXmhnSOo9pihYPZJSFoVG8UmwEKbpGERPvGTVHUd5SFu-ejD1IQ0q9vvz%7ETPVlFH599xYyPWgxidQDY%7EsXh7OiMMMUmCmrG4d9RrxRdfT6C4EFDQKzebpRzoxv3QO3OgrpxPp%7EjoH2KEdqLtLDgIpkeit%7E4RSiiQXB1TtA1XLQ__&Key-Pair-Id=K3RPWS32NSSJCE: HTTPSConnectionPool(host='cdn-lfs.hf.co', port=443): Read timed out.\n",
      "Trying to resume download...\n"
     ]
    }
   ],
   "source": [
    "# Use an LLM to generate profiling rules from regulatory instructions, with a fallback manual implementation\n",
    "import torch\n",
    "from transformers import pipeline, AutoModelForCausalLM, AutoTokenizer\n",
    "\n",
    "# Load StarCoder with 8-bit quantization for CPU usage\n",
    "checkpoint = \"bigcode/starcoder\"\n",
    "tokenizer = AutoTokenizer.from_pretrained(checkpoint)\n",
    "from transformers import BitsAndBytesConfig\n",
    "\n",
    "# Load model without 8-bit quantization for CPU\n",
    "model = AutoModelForCausalLM.from_pretrained(\n",
    "    checkpoint,\n",
    "    device_map={\"\": \"cpu\"},  # Force CPU usage\n",
    "    torch_dtype=torch.float32  # Use float32 since FP16 may not work on CPU\n",
    ")\n",
    "\n",
    "generator = pipeline(\n",
    "    'text-generation',\n",
    "    model=model,\n",
    "    tokenizer=tokenizer,\n",
    "    truncation=True,\n",
    "    device=-1  # -1 for CPU (since your device is set to CPU)\n",
    ")\n",
    "\n",
    "instructions = \"\"\"\n",
    "Transaction_Amount should always match Reported_Amount, except when the transaction involves cross-currency conversions, in which case a permissible deviation of up to 1% is allowed.\n",
    "Currency should be a valid ISO 4217 currency code.\n",
    "\"\"\"\n",
    "\n",
    "prompt = f\"Convert these regulatory instructions into Python validation functions:\\n\\n{instructions}\\n\\nExample:\\ndef validate_amounts(row):\\n    if row['Cross_Currency'] == 'No':\\n        return row['Transaction_Amount'] == row['Reported_Amount']\\n    else:\\n        return abs(row['Transaction_Amount'] - row['Reported_Amount']) <= 0.01 * row['Transaction_Amount']\\n\\nProvide similar Python functions for the given instructions.\"\n",
    "\n",
    "try:\n",
    "    # Use max_new_tokens to specify the number of new tokens to generate, excluding the input prompt\n",
    "    generated_rules = generator(prompt, max_new_tokens=100)[0]['generated_text']\n",
    "    print(\"Generated Rules:\\n\", generated_rules)\n",
    "    # Create the artifacts directory if it doesn't exist\n",
    "    os.makedirs('artifacts', exist_ok=True)\n",
    "    # Save the generated rules to a file with a timestamp for documentation\n",
    "    timestamp = datetime.datetime.now().strftime('%Y-%m-%d_%H-%M-%S')\n",
    "    rules_filename = f'artifacts/generated_rules_{timestamp}.txt'\n",
    "    try:\n",
    "        with open(rules_filename, 'w') as f:\n",
    "            f.write(f\"# Generated Rules\\n# Timestamp: {timestamp}\\n# Prompt:\\n{prompt}\\n\\n\")\n",
    "            f.write(generated_rules)\n",
    "        print(f\"Generated rules saved to '{rules_filename}' for documentation.\")\n",
    "    except Exception as e:\n",
    "        print(f\"Failed to save generated rules to '{rules_filename}': {e}\")\n",
    "    # Check if the generated output contains a complete Python function definition\n",
    "    if \"def validate_\" in generated_rules and \"return\" in generated_rules and generated_rules.count('def') == generated_rules.count('return'):\n",
    "        print(\"Generated rules appear to contain complete Python functions. You can parse and use them.\")\n",
    "        summary_status = \"Usable\"\n",
    "        summary_filenames = f\"Generated: {rules_filename}\"\n",
    "    else:\n",
    "        print(\"Generated rules are not usable Python functions (incomplete or incorrect syntax). Using manual implementation instead.\")\n",
    "        manual_rules = \"\"\"\n",
    "def validate_amounts(row):\n",
    "    if row.get('Cross_Currency', 'No') == 'No':\n",
    "        return row['Transaction_Amount'] == row['Reported_Amount']\n",
    "    return abs(row['Transaction_Amount'] - row['Reported_Amount']) <= 0.01 * row['Transaction_Amount']\n",
    "\n",
    "def validate_currency(row):\n",
    "    iso_4217_codes = {'USD', 'EUR', 'GBP', 'JPY', 'AUD', 'CAD', 'CHF', 'CNY', 'INR', 'SGD'}  # Expanded list\n",
    "    return row['Currency'] in iso_4217_codes\n",
    "        \"\"\"\n",
    "        print(\"Manual Rules (integrated into Cell 2):\\n\", manual_rules)\n",
    "        # Save the manual rules to a file for documentation\n",
    "        manual_rules_filename = f'artifacts/manual_rules_{timestamp}.txt'\n",
    "        try:\n",
    "            with open(manual_rules_filename, 'w') as f:\n",
    "                f.write(f\"# Manual Rules (Fallback)\\n# Timestamp: {timestamp}\\n# Used because generated rules were unusable\\n\\n\")\n",
    "                f.write(manual_rules)\n",
    "            print(f\"Manual rules saved to '{manual_rules_filename}' for documentation.\")\n",
    "        except Exception as e:\n",
    "            print(f\"Failed to save manual rules to '{manual_rules_filename}': {e}\")\n",
    "        summary_status = \"Unusable (used manual rules)\"\n",
    "        summary_filenames = f\"Generated: {rules_filename}, Manual: {manual_rules_filename}\"\n",
    "except Exception as e:\n",
    "    print(f\"LLM generation failed: {e}\")\n",
    "    # Fallback: Manually implement the rules if LLM fails\n",
    "    print(\"Using manually implemented rules as fallback (integrated into Cell 2):\")\n",
    "    manual_rules = \"\"\"\n",
    "def validate_amounts(row):\n",
    "    if row.get('Cross_Currency', 'No') == 'No':\n",
    "        return row['Transaction_Amount'] == row['Reported_Amount']\n",
    "    return abs(row['Transaction_Amount'] - row['Reported_Amount']) <= 0.01 * row['Transaction_Amount']\n",
    "\n",
    "def validate_currency(row):\n",
    "    iso_4217_codes = {'USD', 'EUR', 'GBP', 'JPY', 'AUD', 'CAD', 'CHF', 'CNY', 'INR', 'SGD'}  # Expanded list\n",
    "    return row['Currency'] in iso_4217_codes\n",
    "    \"\"\"\n",
    "    print(manual_rules)\n",
    "    # Save the manual rules to a file for documentation\n",
    "    timestamp = datetime.datetime.now().strftime('%Y-%m-%d_%H-%M-%S')\n",
    "    manual_rules_filename = f'artifacts/manual_rules_{timestamp}.txt'\n",
    "    try:\n",
    "        with open(manual_rules_filename, 'w') as f:\n",
    "            f.write(f\"# Manual Rules (Fallback)\\n# Timestamp: {timestamp}\\n# Used because LLM generation failed\\n\\n\")\n",
    "            f.write(manual_rules)\n",
    "        print(f\"Manual rules saved to '{manual_rules_filename}' for documentation.\")\n",
    "    except Exception as e:\n",
    "        print(f\"Failed to save manual rules to '{manual_rules_filename}': {e}\")\n",
    "    summary_status = \"LLM Failed (used manual rules)\"\n",
    "    summary_filenames = f\"Manual: {manual_rules_filename}\"\n",
    "\n",
    "# Append a summary of this run to a log file\n",
    "summary_log_filename = 'artifacts/summary_log.txt'\n",
    "try:\n",
    "    with open(summary_log_filename, 'a') as f:\n",
    "        f.write(f\"Run at {timestamp}: Status: {summary_status}, Files: {summary_filenames}\\n\")\n",
    "    print(f\"Summary logged to '{summary_log_filename}'.\")\n",
    "except Exception as e:\n",
    "    print(f\"Failed to log summary to '{summary_log_filename}': {e}\")"
   ]
  }
 ],
 "metadata": {
  "kernelspec": {
   "display_name": "Python (myenv)",
   "language": "python",
   "name": "myenv"
  },
  "language_info": {
   "codemirror_mode": {
    "name": "ipython",
    "version": 3
   },
   "file_extension": ".py",
   "mimetype": "text/x-python",
   "name": "python",
   "nbconvert_exporter": "python",
   "pygments_lexer": "ipython3",
   "version": "3.12.2"
  }
 },
 "nbformat": 4,
 "nbformat_minor": 5
}
